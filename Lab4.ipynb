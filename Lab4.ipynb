{
 "cells": [
  {
   "cell_type": "markdown",
   "id": "dd6fea46-b058-41a4-bf49-5cad56a0d964",
   "metadata": {},
   "source": [
    "LAB 4"
   ]
  },
  {
   "cell_type": "markdown",
   "id": "0226acab-74e2-43ed-a0e9-d62d9915767c",
   "metadata": {},
   "source": [
    "Q1. WAP to check if a given number is a Disarium Number or not."
   ]
  },
  {
   "cell_type": "code",
   "execution_count": 63,
   "id": "f3961d92-0967-4b3e-9503-09ad07c03f35",
   "metadata": {},
   "outputs": [
    {
     "name": "stdin",
     "output_type": "stream",
     "text": [
      "Enter a number:  175\n"
     ]
    },
    {
     "name": "stdout",
     "output_type": "stream",
     "text": [
      "175 is a Disarium Number.\n"
     ]
    }
   ],
   "source": [
    "num=int(input(\"Enter a number: \"))\n",
    "st=str(num)\n",
    "length=len(st)\n",
    "sum=0\n",
    "count=1\n",
    "for i in st:\n",
    "    sum+=(int(i)**count)\n",
    "    count=count+1\n",
    "\n",
    "if(sum==num):\n",
    "\n",
    "    print(f\"{num} is a Disarium Number.\")\n",
    "else:\n",
    "    print(f\"{num} is not a Disarium Number.\")"
   ]
  },
  {
   "cell_type": "markdown",
   "id": "be086963-7e7c-4d53-afe2-853eae272c36",
   "metadata": {},
   "source": [
    "Q2. WAP to check if a given Number is a Harshad Number or not."
   ]
  },
  {
   "cell_type": "code",
   "execution_count": 72,
   "id": "805e21f4-ad7f-45a9-9b0b-1ff7558a02a7",
   "metadata": {},
   "outputs": [
    {
     "name": "stdin",
     "output_type": "stream",
     "text": [
      "Enter a number:  18\n"
     ]
    },
    {
     "name": "stdout",
     "output_type": "stream",
     "text": [
      "It is a Harshad Number.\n"
     ]
    }
   ],
   "source": [
    "num=int(input(\"Enter a number: \"))\n",
    "st=str(num)\n",
    "length=len(st)\n",
    "sum=0\n",
    "for i in st:\n",
    "    sum+=int(i)\n",
    "\n",
    "if(num%sum==0):\n",
    "    print(\"It is a Harshad Number.\")\n",
    "else:\n",
    "    print(\"It is not a Harshad Number.\")\n",
    "    "
   ]
  },
  {
   "cell_type": "markdown",
   "id": "c5af8211-a4c0-461f-b9bc-3523fba3fd08",
   "metadata": {},
   "source": [
    "Q3. WAP to print Armstrong Numbers from 0 to 1000"
   ]
  },
  {
   "cell_type": "code",
   "execution_count": 84,
   "id": "351129d9-e553-4745-9683-81473858e3ea",
   "metadata": {},
   "outputs": [
    {
     "name": "stdout",
     "output_type": "stream",
     "text": [
      "0\n",
      "1\n"
     ]
    }
   ],
   "source": [
    "sum=0\n",
    "for num in range(0,1000):\n",
    "    st=str(num)\n",
    "    length=len(st)\n",
    "    for i in st:\n",
    "        sum+=(int(i)**length)\n",
    "        \n",
    "    if(sum==num):\n",
    "        print(num)\n",
    "    "
   ]
  },
  {
   "cell_type": "code",
   "execution_count": null,
   "id": "a5083bc2-d730-4b77-990e-39a307f1bf60",
   "metadata": {},
   "outputs": [],
   "source": []
  }
 ],
 "metadata": {
  "kernelspec": {
   "display_name": "Python 3 (ipykernel)",
   "language": "python",
   "name": "python3"
  },
  "language_info": {
   "codemirror_mode": {
    "name": "ipython",
    "version": 3
   },
   "file_extension": ".py",
   "mimetype": "text/x-python",
   "name": "python",
   "nbconvert_exporter": "python",
   "pygments_lexer": "ipython3",
   "version": "3.12.4"
  }
 },
 "nbformat": 4,
 "nbformat_minor": 5
}
