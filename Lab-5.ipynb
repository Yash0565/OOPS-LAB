{
 "cells": [
  {
   "cell_type": "markdown",
   "id": "86a317ed-04e6-4914-b729-bd203bffb150",
   "metadata": {},
   "source": [
    "Q1. WAP TO TRIPLE ALL NUMBERS IN A GIVEN LIST OF INTEGERS"
   ]
  },
  {
   "cell_type": "code",
   "execution_count": 2,
   "id": "a4d39e51-3ab8-423f-9f69-8b0afdaa2eb0",
   "metadata": {},
   "outputs": [
    {
     "name": "stdout",
     "output_type": "stream",
     "text": [
      "The numbers are: [1, 2, 3, 4, 5, 6, 7, 8, 9]\n",
      "After the function: [3, 6, 9, 12, 15, 18, 21, 24, 27]\n"
     ]
    }
   ],
   "source": [
    "def triple(x):\n",
    "    return x*3\n",
    "\n",
    "nums=[1,2,3,4,5,6,7,8,9]\n",
    "ans=list(map(triple,nums))\n",
    "print(f\"The numbers are: {nums}\")\n",
    "print(f\"After the function: {ans}\")"
   ]
  },
  {
   "cell_type": "markdown",
   "id": "44c96a64-48b8-414f-96fd-bf133ac55060",
   "metadata": {},
   "source": [
    "Q2. WAP to add three given lists using Python Map and Lambda"
   ]
  },
  {
   "cell_type": "code",
   "execution_count": 10,
   "id": "63bc0022-6d33-48da-982a-ee74b9edd1d3",
   "metadata": {},
   "outputs": [
    {
     "name": "stdin",
     "output_type": "stream",
     "text": [
      "Input a list of integers:  [1,2,3]\n",
      "Input another list of integers:  [4,5,6]\n",
      "Input another list of integers:  [7,8,9]\n"
     ]
    },
    {
     "name": "stdout",
     "output_type": "stream",
     "text": [
      "The sum of these lists is: [12, 15, 18]\n"
     ]
    }
   ],
   "source": [
    "l1=eval(input(\"Input a list of integers: \"))\n",
    "l2=eval(input(\"Input another list of integers: \"))\n",
    "l3=eval(input(\"Input another list of integers: \"))\n",
    "add=map(lambda x,y,z:x+y+z,l1,l2,l3)\n",
    "\n",
    "print(f\"The sum of these lists is: {list(add)}\")"
   ]
  },
  {
   "cell_type": "markdown",
   "id": "a50bac7a-ee70-46df-a8f0-26898f3ff1af",
   "metadata": {},
   "source": [
    "Q3. WAP to add listify the list of given strings using Python Map\n",
    "\n"
   ]
  },
  {
   "cell_type": "code",
   "execution_count": 13,
   "id": "dbc7a1fb-1e2e-4c68-a6db-90a0c52f6f98",
   "metadata": {},
   "outputs": [
    {
     "name": "stdin",
     "output_type": "stream",
     "text": [
      "Enter a list of strings:  [\"Hello\",\"World\"]\n"
     ]
    },
    {
     "name": "stdout",
     "output_type": "stream",
     "text": [
      "[['H', 'e', 'l', 'l', 'o'], ['W', 'o', 'r', 'l', 'd']]\n"
     ]
    }
   ],
   "source": [
    "l=eval(input(\"Enter a list of strings: \"))\n",
    "res=list(map(list,l))\n",
    "print(res)"
   ]
  },
  {
   "cell_type": "markdown",
   "id": "68cd88f6-2765-422b-8e27-5ec65f01c5d5",
   "metadata": {},
   "source": [
    "Q4. WAP to create a list containing the power of said number in bases raised to the corresponding number in the index using python map.\n"
   ]
  },
  {
   "cell_type": "code",
   "execution_count": 15,
   "id": "be9acfd4-9843-481a-b5f2-843436e0bebe",
   "metadata": {},
   "outputs": [
    {
     "name": "stdin",
     "output_type": "stream",
     "text": [
      "Input a list of integers:  [1,2,3,4,5]\n"
     ]
    },
    {
     "ename": "TypeError",
     "evalue": "'int' object is not iterable",
     "output_type": "error",
     "traceback": [
      "\u001b[1;31m---------------------------------------------------------------------------\u001b[0m",
      "\u001b[1;31mTypeError\u001b[0m                                 Traceback (most recent call last)",
      "Cell \u001b[1;32mIn[15], line 6\u001b[0m\n\u001b[0;32m      3\u001b[0m         \u001b[38;5;28;01mreturn\u001b[39;00m (a\u001b[38;5;241m*\u001b[39m\u001b[38;5;241m*\u001b[39mindex(a))\n\u001b[0;32m      5\u001b[0m l\u001b[38;5;241m=\u001b[39m\u001b[38;5;28meval\u001b[39m(\u001b[38;5;28minput\u001b[39m(\u001b[38;5;124m\"\u001b[39m\u001b[38;5;124mInput a list of integers: \u001b[39m\u001b[38;5;124m\"\u001b[39m))\n\u001b[1;32m----> 6\u001b[0m res\u001b[38;5;241m=\u001b[39m\u001b[38;5;28mlist\u001b[39m(\u001b[38;5;28mmap\u001b[39m(power,l))\n\u001b[0;32m      7\u001b[0m \u001b[38;5;28mprint\u001b[39m(\u001b[38;5;124mf\u001b[39m\u001b[38;5;124m\"\u001b[39m\u001b[38;5;124mResultant list is: \u001b[39m\u001b[38;5;132;01m{\u001b[39;00mres\u001b[38;5;132;01m}\u001b[39;00m\u001b[38;5;124m\"\u001b[39m)\n",
      "Cell \u001b[1;32mIn[15], line 2\u001b[0m, in \u001b[0;36mpower\u001b[1;34m(a)\u001b[0m\n\u001b[0;32m      1\u001b[0m \u001b[38;5;28;01mdef\u001b[39;00m \u001b[38;5;21mpower\u001b[39m(a):\n\u001b[1;32m----> 2\u001b[0m     \u001b[38;5;28;01mfor\u001b[39;00m i \u001b[38;5;129;01min\u001b[39;00m a:\n\u001b[0;32m      3\u001b[0m         \u001b[38;5;28;01mreturn\u001b[39;00m (a\u001b[38;5;241m*\u001b[39m\u001b[38;5;241m*\u001b[39mindex(a))\n",
      "\u001b[1;31mTypeError\u001b[0m: 'int' object is not iterable"
     ]
    }
   ],
   "source": [
    "def power(a):\n",
    "    for i in a:\n",
    "        return (a**index(a))\n",
    "        \n",
    "l=eval(input(\"Input a list of integers: \"))\n",
    "res=list(map(pow,l,in))\n",
    "print(f\"Resultant list is: {res}\")"
   ]
  },
  {
   "cell_type": "markdown",
   "id": "08a0ed16-2180-4f99-bea9-d5675e0eac31",
   "metadata": {},
   "source": [
    "Q5. WAP to square the elements of the list using map function"
   ]
  },
  {
   "cell_type": "code",
   "execution_count": 16,
   "id": "8c04aa64-bbfb-44f1-9b86-df4ecb3b10eb",
   "metadata": {},
   "outputs": [
    {
     "name": "stdin",
     "output_type": "stream",
     "text": [
      "Input a list of integers:  [1,2,3,4,5]\n"
     ]
    },
    {
     "name": "stdout",
     "output_type": "stream",
     "text": [
      "The desired list is: [1, 4, 9, 16, 25]\n"
     ]
    }
   ],
   "source": [
    "def square(x):\n",
    "    return x**2\n",
    "l=eval(input(\"Input a list of integers: \"))\n",
    "ans=list(map(square,l))\n",
    "print(f\"The desired list is: {ans}\")"
   ]
  },
  {
   "cell_type": "markdown",
   "id": "2eca4c53-bf5a-4c03-8ae6-56c908faf4ca",
   "metadata": {},
   "source": [
    "Q6. WAP to toggle the cases and eliminate duplicate letters from a sequence using the map function."
   ]
  },
  {
   "cell_type": "code",
   "execution_count": 24,
   "id": "be1bee56-c570-40e4-85f1-de0d40c9032c",
   "metadata": {},
   "outputs": [
    {
     "name": "stdin",
     "output_type": "stream",
     "text": [
      "Enter a list:  [\"HeLlO wOrlD\"]\n"
     ]
    },
    {
     "name": "stdout",
     "output_type": "stream",
     "text": [
      "[['E', 'l', 'W', 'R']]\n"
     ]
    }
   ],
   "source": [
    "def modify(l):\n",
    "    l1=[]\n",
    "    for i in l:\n",
    "        if i.lower() in l and i.lower() not in l1:\n",
    "            if(i.isupper()):\n",
    "                l1.append(i.lower())\n",
    "            elif(i.islower()):\n",
    "                l1.append(i.upper())\n",
    "            \n",
    "    return l1\n",
    "\n",
    "li=eval(input(\"Enter a list: \"))\n",
    "ans=list(map(modify,li))\n",
    "print(ans)"
   ]
  },
  {
   "cell_type": "code",
   "execution_count": null,
   "id": "edc931f0-2976-4c29-bb31-ecff154c0405",
   "metadata": {},
   "outputs": [],
   "source": []
  }
 ],
 "metadata": {
  "kernelspec": {
   "display_name": "Python 3 (ipykernel)",
   "language": "python",
   "name": "python3"
  },
  "language_info": {
   "codemirror_mode": {
    "name": "ipython",
    "version": 3
   },
   "file_extension": ".py",
   "mimetype": "text/x-python",
   "name": "python",
   "nbconvert_exporter": "python",
   "pygments_lexer": "ipython3",
   "version": "3.12.4"
  }
 },
 "nbformat": 4,
 "nbformat_minor": 5
}
